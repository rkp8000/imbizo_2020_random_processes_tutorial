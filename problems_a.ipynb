{
 "cells": [
  {
   "cell_type": "code",
   "execution_count": 1,
   "metadata": {},
   "outputs": [],
   "source": [
    "%matplotlib inline\n",
    "import matplotlib.pyplot as plt\n",
    "import numpy as np\n",
    "\n",
    "\n",
    "def set_font_size(ax, font_size, legend_font_size=None):\n",
    "    \"\"\"Set font_size of all axis text objects to specified value.\"\"\"\n",
    "\n",
    "    texts = [ax.title, ax.xaxis.label, ax.yaxis.label] + \\\n",
    "        ax.get_xticklabels() + ax.get_yticklabels()\n",
    "\n",
    "    for text in texts:\n",
    "        text.set_fontsize(font_size)\n",
    "\n",
    "    if ax.get_legend():\n",
    "        if not legend_font_size:\n",
    "            legend_font_size = font_size\n",
    "        for text in ax.get_legend().get_texts():\n",
    "            text.set_fontsize(legend_font_size)"
   ]
  },
  {
   "cell_type": "markdown",
   "metadata": {},
   "source": [
    "## Problem 1.1\n",
    "\n",
    "Number of spikes emitted by neuron in 1 second - Poisson\n",
    "\n",
    "Absolute interval between two spikes emitted by a neuron - exponential\n",
    "\n",
    "Whether or not spike was emitted in 1 ms time bin - Bernoulli\n",
    "\n",
    "Total current input to a neuron at any timepoint - Gaussian \n",
    "\n",
    "Number of photons received by retinal photoreceptor in 10 ms - Poisson\n",
    "\n",
    "Time it takes to walk from hostel to CCFM - Gaussian\n",
    "\n",
    "Which of 100 images was presented to neural network - categorical\n",
    "\n",
    "Number of white pixels in B&W image - Binomial\n",
    "\n",
    "Light intensity level measured throughout typical day - log-normal\n",
    "\n",
    "Change in firing rate - Gaussian\n",
    "\n",
    "Difference between two neurons' firing rates - Gaussian\n",
    "\n",
    "Whether a neuron is INH or EXC - Bernoulli \n",
    "\n",
    "Which of 10 cell types a neuron is - categorical"
   ]
  },
  {
   "cell_type": "markdown",
   "metadata": {},
   "source": [
    "## Problem 1.2\n",
    "\n",
    "False. If $P(x_i) > 1$, then $\\sum_i P(x_i) > 1$, breaking the normalization condition.\n",
    "\n",
    "## Problem 1.3\n",
    "\n",
    "True. As long as $\\int_{-\\infty}^{\\infty} P(x) dx = 1$, it doesn't matter what $P(x)$ is. E.g. consider the distribution $P(x) = 2$ for $0 < x < 0.5$ and $0$ elsewhere."
   ]
  },
  {
   "cell_type": "markdown",
   "metadata": {},
   "source": [
    "## Problem 1.4\n",
    "\n",
    "Unitless"
   ]
  },
  {
   "cell_type": "markdown",
   "metadata": {},
   "source": [
    "## Problem 1.5\n",
    "\n",
    "Reciprocal of the units of your random variable.\n",
    "\n",
    "This is because \n",
    "\n",
    "$$\\int_a^b P(x) dx$$ must be unitless and $a$, $b$, and $dx$ are in the units of your random variable."
   ]
  },
  {
   "cell_type": "markdown",
   "metadata": {},
   "source": [
    "## Problem 1.6"
   ]
  },
  {
   "cell_type": "markdown",
   "metadata": {},
   "source": [
    "$$P(x) = \\frac{1}{\\beta}\\exp(-x/\\beta)$$ for $x >= 0$, 0 elsewhere.\n",
    "\n",
    "$$\\int_{-\\infty}^\\infty P(x)dx = \\int_{0}^\\infty \\frac{1}{\\beta}\\exp(-x/\\beta)dx = -\\exp(-\\infty/\\beta) - (-\\exp(0/\\beta)) = 1$$"
   ]
  },
  {
   "cell_type": "markdown",
   "metadata": {},
   "source": [
    "## Problem 2.1"
   ]
  },
  {
   "cell_type": "code",
   "execution_count": 3,
   "metadata": {},
   "outputs": [
    {
     "name": "stdout",
     "output_type": "stream",
     "text": [
      "[0 1 1 1 0 1 0 0 1 1 1 0 0 0 1 0 0 0 1 0]\n"
     ]
    }
   ],
   "source": [
    "import numpy as np\n",
    "\n",
    "x = np.random.uniform(0, 1, 20)\n",
    "print((x < .5).astype(int))"
   ]
  },
  {
   "cell_type": "code",
   "execution_count": 5,
   "metadata": {},
   "outputs": [
    {
     "name": "stdout",
     "output_type": "stream",
     "text": [
      "[1 0 0 0 0 0 0 1 1 0 1 1 1 0 1 0 0 1 1 1]\n"
     ]
    }
   ],
   "source": [
    "# also\n",
    "x = np.random.rand(20)\n",
    "print((x < .5).astype(int))"
   ]
  },
  {
   "cell_type": "markdown",
   "metadata": {},
   "source": [
    "## Problem 2.2"
   ]
  },
  {
   "cell_type": "code",
   "execution_count": 6,
   "metadata": {},
   "outputs": [
    {
     "name": "stdout",
     "output_type": "stream",
     "text": [
      "[0 0 0 0 0 1 1 0 0 0 1 1 0 1 0 0 0 1 0 1]\n"
     ]
    }
   ],
   "source": [
    "x = np.random.uniform(0, 1, 20)\n",
    "print((x < .25).astype(int))"
   ]
  },
  {
   "cell_type": "markdown",
   "metadata": {},
   "source": [
    "## Problem 2.3"
   ]
  },
  {
   "cell_type": "code",
   "execution_count": 2,
   "metadata": {},
   "outputs": [
    {
     "data": {
      "image/png": "[encoded data removed]",
      "text/plain": [
       "<Figure size 432x288 with 1 Axes>"
      ]
     },
     "metadata": {
      "needs_background": "light"
     },
     "output_type": "display_data"
    }
   ],
   "source": [
    "N = 1000\n",
    "BINS = 30\n",
    "\n",
    "# square of Gaussian random variable\n",
    "x = np.random.normal(0, 1, N)**2\n",
    "\n",
    "plt.hist(x, bins=30);"
   ]
  },
  {
   "cell_type": "code",
   "execution_count": 3,
   "metadata": {},
   "outputs": [
    {
     "data": {
      "image/png": "[encoded data removed]",
      "text/plain": [
       "<Figure size 432x288 with 1 Axes>"
      ]
     },
     "metadata": {
      "needs_background": "light"
     },
     "output_type": "display_data"
    }
   ],
   "source": [
    "# difference between two Gaussian random variables\n",
    "x = np.random.normal(0, 1, N) - np.random.normal(0, 1, N)\n",
    "\n",
    "plt.hist(x, bins=30);"
   ]
  },
  {
   "cell_type": "code",
   "execution_count": 4,
   "metadata": {},
   "outputs": [
    {
     "data": {
      "text/plain": [
       "(array([  8.,  16.,  70., 296., 443., 125.,  32.,   9.,   0.,   1.]),\n",
       " array([-12.26688641,  -9.35639114,  -6.44589586,  -3.53540059,\n",
       "         -0.62490532,   2.28558996,   5.19608523,   8.1065805 ,\n",
       "         11.01707578,  13.92757105,  16.83806632]),\n",
       " <a list of 10 Patch objects>)"
      ]
     },
     "execution_count": 4,
     "metadata": {},
     "output_type": "execute_result"
    },
    {
     "data": {
      "image/png": "[encoded data removed]",
      "text/plain": [
       "<Figure size 432x288 with 1 Axes>"
      ]
     },
     "metadata": {
      "needs_background": "light"
     },
     "output_type": "display_data"
    }
   ],
   "source": [
    "# difference between two exponential random variables\n",
    "x = np.random.exponential(2, N) - np.random.exponential(2, N)\n",
    "\n",
    "plt.hist(x)"
   ]
  },
  {
   "cell_type": "code",
   "execution_count": 5,
   "metadata": {},
   "outputs": [
    {
     "data": {
      "image/png": "[encoded data removed]",
      "text/plain": [
       "<Figure size 432x288 with 1 Axes>"
      ]
     },
     "metadata": {
      "needs_background": "light"
     },
     "output_type": "display_data"
    }
   ],
   "source": [
    "# sum of two Gaussian random variables\n",
    "x = np.random.normal(0, 1, N) + np.random.normal(0, 1, N)\n",
    "\n",
    "plt.hist(x);"
   ]
  },
  {
   "cell_type": "code",
   "execution_count": 6,
   "metadata": {},
   "outputs": [
    {
     "data": {
      "text/plain": [
       "(array([305., 344., 195.,  87.,  44.,  17.,   3.,   2.,   2.,   1.]),\n",
       " array([ 0.03606417,  2.29794345,  4.55982273,  6.82170201,  9.08358129,\n",
       "        11.34546057, 13.60733985, 15.86921913, 18.13109841, 20.39297769,\n",
       "        22.65485697]),\n",
       " <a list of 10 Patch objects>)"
      ]
     },
     "execution_count": 6,
     "metadata": {},
     "output_type": "execute_result"
    },
    {
     "data": {
      "image/png": "[encoded data removed]",
      "text/plain": [
       "<Figure size 432x288 with 1 Axes>"
      ]
     },
     "metadata": {
      "needs_background": "light"
     },
     "output_type": "display_data"
    }
   ],
   "source": [
    "# sum of two exponential random variables\n",
    "x = np.random.exponential(2, N) + np.random.exponential(2, N)\n",
    "\n",
    "plt.hist(x)"
   ]
  },
  {
   "cell_type": "code",
   "execution_count": 7,
   "metadata": {},
   "outputs": [
    {
     "data": {
      "text/plain": [
       "(array([  4.,  20.,  60., 144., 262., 281., 149.,  58.,  21.,   1.]),\n",
       " array([-33.22662194, -26.50722531, -19.78782868, -13.06843204,\n",
       "         -6.34903541,   0.37036122,   7.08975785,  13.80915448,\n",
       "         20.52855111,  27.24794775,  33.96734438]),\n",
       " <a list of 10 Patch objects>)"
      ]
     },
     "execution_count": 7,
     "metadata": {},
     "output_type": "execute_result"
    },
    {
     "data": {
      "image/png": "[encoded data removed]",
      "text/plain": [
       "<Figure size 432x288 with 1 Axes>"
      ]
     },
     "metadata": {
      "needs_background": "light"
     },
     "output_type": "display_data"
    }
   ],
   "source": [
    "# sum of 100 Gaussian random variables\n",
    "x = np.zeros(N)\n",
    "for i in range(100):\n",
    "    x = x + np.random.normal(0, 1, N)\n",
    "    \n",
    "plt.hist(x)"
   ]
  },
  {
   "cell_type": "code",
   "execution_count": 8,
   "metadata": {},
   "outputs": [
    {
     "data": {
      "text/plain": [
       "(array([  3.,  28.,  99., 241., 287., 205., 102.,  24.,   6.,   5.]),\n",
       " array([133.0900218 , 147.76128704, 162.43255228, 177.10381751,\n",
       "        191.77508275, 206.44634798, 221.11761322, 235.78887846,\n",
       "        250.46014369, 265.13140893, 279.80267416]),\n",
       " <a list of 10 Patch objects>)"
      ]
     },
     "execution_count": 8,
     "metadata": {},
     "output_type": "execute_result"
    },
    {
     "data": {
      "image/png": "[encoded data removed]",
      "text/plain": [
       "<Figure size 432x288 with 1 Axes>"
      ]
     },
     "metadata": {
      "needs_background": "light"
     },
     "output_type": "display_data"
    }
   ],
   "source": [
    "# sum of 100 exponential random variables\n",
    "x = np.zeros(N)\n",
    "for i in range(100):\n",
    "    x = x + np.random.exponential(2, N)\n",
    "    \n",
    "plt.hist(x)"
   ]
  },
  {
   "cell_type": "markdown",
   "metadata": {},
   "source": [
    "## Problem 2.4"
   ]
  },
  {
   "cell_type": "markdown",
   "metadata": {},
   "source": [
    "$$E[X] = \\int_{-\\infty}^{\\infty} x P(x) dx = \\int_{0}^\\infty \\frac{x}{\\beta}\\exp(-x/\\beta)dx$$"
   ]
  },
  {
   "cell_type": "markdown",
   "metadata": {},
   "source": [
    "## Problem 2.5"
   ]
  },
  {
   "cell_type": "markdown",
   "metadata": {},
   "source": [
    "We just need to solve this integral:\n",
    "\n",
    "$$\\int_{0}^\\infty \\frac{x}{\\beta}\\exp(-x/\\beta)dx$$"
   ]
  },
  {
   "cell_type": "markdown",
   "metadata": {},
   "source": [
    "Integrate by parts:\n",
    "\n",
    "$$\\int udv = uv - \\int vdu$$\n",
    "\n",
    "$$ u = x $$\n",
    "\n",
    "$$dv = \\frac{1}{\\beta}\\exp(-x/\\beta)dx$$\n",
    "\n",
    "$$ du = dx$$\n",
    "\n",
    "$$v = -\\exp(-x/\\beta)$$"
   ]
  },
  {
   "cell_type": "markdown",
   "metadata": {},
   "source": [
    "$$\\int_{0}^\\infty \\frac{x}{\\beta}\\exp(-x/\\beta)dx = -x\\exp(-x/\\beta) \\bigg\\rvert^\\infty_0 + \\int_0^\\infty \\exp(-x/\\beta)dx = 0 + \\beta = \\beta$$"
   ]
  },
  {
   "cell_type": "markdown",
   "metadata": {},
   "source": [
    "## Problem 2.6"
   ]
  },
  {
   "cell_type": "markdown",
   "metadata": {},
   "source": [
    "$$Var[X] = \\int_{-\\infty}^\\infty (x - E[X])^2 P(x) dx = \\int_{0}^\\infty \\frac{(x- E[x])^2}{\\beta}\\exp(-x/\\beta)dx$$"
   ]
  },
  {
   "cell_type": "markdown",
   "metadata": {},
   "source": [
    "## Problem 3.1"
   ]
  },
  {
   "cell_type": "code",
   "execution_count": 16,
   "metadata": {},
   "outputs": [
    {
     "data": {
      "text/plain": [
       "Text(0, 0.5, 'Counts')"
      ]
     },
     "execution_count": 16,
     "metadata": {},
     "output_type": "execute_result"
    },
    {
     "data": {
      "image/png": "[encoded data removed]",
      "text/plain": [
       "<Figure size 432x288 with 1 Axes>"
      ]
     },
     "metadata": {
      "needs_background": "light"
     },
     "output_type": "display_data"
    }
   ],
   "source": [
    "%matplotlib inline\n",
    "import matplotlib.pyplot as plt\n",
    "import numpy as np\n",
    "\n",
    "x = np.random.normal(0, 2, 30)\n",
    "\n",
    "plt.hist(x, bins=10)\n",
    "\n",
    "plt.xlabel('x')\n",
    "plt.ylabel('Counts')"
   ]
  },
  {
   "cell_type": "code",
   "execution_count": 19,
   "metadata": {},
   "outputs": [
    {
     "name": "stdout",
     "output_type": "stream",
     "text": [
      "Sample mean = 0.1626721112911769\n"
     ]
    }
   ],
   "source": [
    "# mean\n",
    "n = len(x)\n",
    "total = 0\n",
    "for i in range(n):\n",
    "    total += x[i]\n",
    "mean = total / n\n",
    "\n",
    "print('Sample mean =', mean)"
   ]
  },
  {
   "cell_type": "code",
   "execution_count": 20,
   "metadata": {},
   "outputs": [
    {
     "name": "stdout",
     "output_type": "stream",
     "text": [
      "Sample variance = 3.251454330561486\n"
     ]
    }
   ],
   "source": [
    "# variance\n",
    "total = 0\n",
    "for i in range(n):\n",
    "    total += (x[i] - mean)**2\n",
    "var = total / (n-1)\n",
    "\n",
    "print('Sample variance =', var)"
   ]
  },
  {
   "cell_type": "code",
   "execution_count": 21,
   "metadata": {},
   "outputs": [
    {
     "name": "stdout",
     "output_type": "stream",
     "text": [
      "Sample mean = 0.1626721112911769\n",
      "Sample variance = 3.2514543305614856\n"
     ]
    }
   ],
   "source": [
    "# built-in way of doing this\n",
    "print('Sample mean =', np.mean(x))\n",
    "print('Sample variance =', np.var(x, ddof=1))"
   ]
  },
  {
   "cell_type": "markdown",
   "metadata": {},
   "source": [
    "## Problem 3.2"
   ]
  },
  {
   "cell_type": "code",
   "execution_count": 10,
   "metadata": {},
   "outputs": [
    {
     "data": {
      "text/plain": [
       "Text(0, 0.5, 'Counts')"
      ]
     },
     "execution_count": 10,
     "metadata": {},
     "output_type": "execute_result"
    },
    {
     "data": {
      "image/png": "[encoded data removed]",
      "text/plain": [
       "<Figure size 432x288 with 1 Axes>"
      ]
     },
     "metadata": {
      "needs_background": "light"
     },
     "output_type": "display_data"
    }
   ],
   "source": [
    "N_EXPT = 100\n",
    "N_SAMPLE = 30\n",
    "\n",
    "sample_means = []\n",
    "\n",
    "for expt_ctr in range(N_EXPT):\n",
    "    x = np.random.normal(0, 2, N_SAMPLE)\n",
    "    sample_mean = np.mean(x)\n",
    "    sample_means.append(sample_mean)\n",
    "    \n",
    "plt.hist(sample_means)\n",
    "plt.xlabel('sample mean')\n",
    "plt.ylabel('Counts')"
   ]
  },
  {
   "cell_type": "markdown",
   "metadata": {},
   "source": [
    "## Problem 3.3"
   ]
  },
  {
   "cell_type": "code",
   "execution_count": 14,
   "metadata": {},
   "outputs": [
    {
     "data": {
      "image/png": "[encoded data removed]",
      "text/plain": [
       "<Figure size 432x288 with 1 Axes>"
      ]
     },
     "metadata": {
      "needs_background": "light"
     },
     "output_type": "display_data"
    },
    {
     "data": {
      "image/png": "[encoded data removed]",
      "text/plain": [
       "<Figure size 432x288 with 1 Axes>"
      ]
     },
     "metadata": {
      "needs_background": "light"
     },
     "output_type": "display_data"
    },
    {
     "data": {
      "image/png": "[encoded data removed]",
      "text/plain": [
       "<Figure size 432x288 with 1 Axes>"
      ]
     },
     "metadata": {
      "needs_background": "light"
     },
     "output_type": "display_data"
    },
    {
     "data": {
      "image/png": "[encoded data removed]",
      "text/plain": [
       "<Figure size 432x288 with 1 Axes>"
      ]
     },
     "metadata": {
      "needs_background": "light"
     },
     "output_type": "display_data"
    },
    {
     "data": {
      "image/png": "[encoded data removed]",
      "text/plain": [
       "<Figure size 432x288 with 1 Axes>"
      ]
     },
     "metadata": {
      "needs_background": "light"
     },
     "output_type": "display_data"
    },
    {
     "data": {
      "image/png": "[encoded data removed]",
      "text/plain": [
       "<Figure size 432x288 with 1 Axes>"
      ]
     },
     "metadata": {
      "needs_background": "light"
     },
     "output_type": "display_data"
    }
   ],
   "source": [
    "N_EXPT = 100\n",
    "\n",
    "for N_SAMPLE in [10, 30, 50, 100, 1000, 5000]:\n",
    "    \n",
    "    sample_means = []\n",
    "    \n",
    "    for expt_ctr in range(N_EXPT):\n",
    "        \n",
    "        x = np.random.normal(0, 2, N_SAMPLE)\n",
    "        sample_mean = np.mean(x)\n",
    "        sample_means.append(sample_mean)\n",
    "    \n",
    "    plt.figure()\n",
    "    plt.hist(sample_means)\n",
    "    plt.xlabel('Sample mean')\n",
    "    plt.ylabel('Count')\n",
    "    plt.title('N_SAMPLE =' + str(N_SAMPLE))"
   ]
  },
  {
   "cell_type": "markdown",
   "metadata": {},
   "source": [
    "The variance of the sample means decreases as the number of samples per experiments decreases."
   ]
  },
  {
   "cell_type": "markdown",
   "metadata": {},
   "source": [
    "## Problem 3.4"
   ]
  },
  {
   "cell_type": "markdown",
   "metadata": {},
   "source": [
    "$$X \\sim Uniform(-1, 1)$$\n",
    "\n",
    "$$P(X) = 1/2 \\;for \\; -1 \\leq x \\leq 1$$\n",
    "\n",
    "$$E[|X|] = \\int_{-1}^1 |x|P(x)dx = 1/2\\int_{-1}^1 |x|dx = 1/2\\left(\\int_{-1}^0 -xdx + \\int_0^1 xdx\\right) = 1/2$$"
   ]
  },
  {
   "cell_type": "markdown",
   "metadata": {},
   "source": [
    "## Problem 3.5"
   ]
  },
  {
   "cell_type": "code",
   "execution_count": 13,
   "metadata": {},
   "outputs": [
    {
     "name": "stdout",
     "output_type": "stream",
     "text": [
      "0.49566748722791626\n"
     ]
    }
   ],
   "source": [
    "x = np.random.uniform(-1, 1, 1000)\n",
    "print(np.mean(np.abs(x)))"
   ]
  }
 ],
 "metadata": {
  "kernelspec": {
   "display_name": "Python 3",
   "language": "python",
   "name": "python3"
  },
  "language_info": {
   "codemirror_mode": {
    "name": "ipython",
    "version": 3
   },
   "file_extension": ".py",
   "mimetype": "text/x-python",
   "name": "python",
   "nbconvert_exporter": "python",
   "pygments_lexer": "ipython3",
   "version": "3.6.9"
  }
 },
 "nbformat": 4,
 "nbformat_minor": 2
}
