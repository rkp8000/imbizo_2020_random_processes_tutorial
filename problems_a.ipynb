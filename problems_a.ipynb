{
 "cells": [
  {
   "cell_type": "code",
   "execution_count": 1,
   "metadata": {},
   "outputs": [],
   "source": [
    "%matplotlib inline\n",
    "import matplotlib.pyplot as plt\n",
    "import numpy as np\n",
    "\n",
    "\n",
    "def set_font_size(ax, font_size, legend_font_size=None):\n",
    "    \"\"\"Set font_size of all axis text objects to specified value.\"\"\"\n",
    "\n",
    "    texts = [ax.title, ax.xaxis.label, ax.yaxis.label] + \\\n",
    "        ax.get_xticklabels() + ax.get_yticklabels()\n",
    "\n",
    "    for text in texts:\n",
    "        text.set_fontsize(font_size)\n",
    "\n",
    "    if ax.get_legend():\n",
    "        if not legend_font_size:\n",
    "            legend_font_size = font_size\n",
    "        for text in ax.get_legend().get_texts():\n",
    "            text.set_fontsize(legend_font_size)"
   ]
  },
  {
   "cell_type": "markdown",
   "metadata": {},
   "source": [
    "## Problem 1.1\n",
    "\n",
    "Poisson: $$P(k; \\lambda) = \\frac{\\lambda^k e^{-\\lambda}}{k!}$$\n",
    "\n",
    "(a) $$P(K = 1; 2.5) = \\frac{2.5^1 e^{-2.5}}{1!} \\approx .205$$\n",
    "\n",
    "(b) $$P(K = 0; 2.5) = \\frac{2.5^0 e^{-2.5}}{0!} = e^{-2.5} \\approx 0.082$$\n",
    "\n",
    "(c) $$P(K \\geq 2; \\lambda = 2.5) = 1 - P(K = 0; 2.5) - P(K = 1; 2.5) \\approx 0.713$$"
   ]
  },
  {
   "cell_type": "markdown",
   "metadata": {},
   "source": [
    "## Problem 1.2"
   ]
  },
  {
   "cell_type": "markdown",
   "metadata": {},
   "source": [
    "$$P(\\tau; \\beta=100 ms) = \\frac{1}{\\beta} \\exp(-\\tau/\\beta) \\; for \\; \\tau \\geq 0$$\n",
    "\n",
    "$$\\int \\frac{1}{\\beta} \\exp(-\\tau/\\beta) d\\tau = -\\exp(-\\tau/\\beta)$$\n",
    "\n",
    "(a) $$P(\\tau < 50) = \\int_0^{50} \\frac{1}{\\beta} \\exp(-\\tau/\\beta) d\\tau = [-\\exp(-50ms/100ms) + \\exp(0/100 ms)] \\approx 0.393 $$\n",
    "\n",
    "(b) $$P(100 < \\tau < 200) = \\int_{100}^{200} \\frac{1}{\\beta} \\exp(-\\tau/\\beta) d\\tau = [-\\exp(-200ms/200ms) + \\exp(-100 ms/ 200 ms)] \\approx 0.239 $$\n",
    "\n",
    "(c) $$P(\\tau > 200) = \\int_{200}^{\\infty} \\frac{1}{\\beta} \\exp(-\\tau/\\beta) d\\tau = [-\\exp(-\\infty/100ms) + \\exp(-200 ms/100 ms)] \\approx 0.135$$\n",
    "\n",
    "(d) $$0$$"
   ]
  },
  {
   "cell_type": "markdown",
   "metadata": {},
   "source": [
    "## Problem 1.3\n",
    "\n",
    "Number of spikes emitted by neuron in 1 second - Poisson\n",
    "\n",
    "Absolute interval between two spikes emitted by a neuron - exponential\n",
    "\n",
    "Whether or not spike was emitted in 1 ms time bin - Bernoulli\n",
    "\n",
    "Total current input to a neuron at any timepoint - Gaussian \n",
    "\n",
    "Number of vesicles released at a synapse after an action potential - Binomial or Poisson\n",
    "\n",
    "Time it takes to walk from hostel to CCFM - Gaussian\n",
    "\n",
    "Which of 100 images was presented to neural network - categorical\n",
    "\n",
    "Number of white pixels in B&W image - Binomial\n",
    "\n",
    "Light intensity level measured throughout typical day - log-normal\n",
    "\n",
    "Change in firing rate - Gaussian\n",
    "\n",
    "Difference between two neurons' firing rates - Gaussian\n",
    "\n",
    "Whether a neuron is INH or EXC - Bernoulli \n",
    "\n",
    "Which of 10 cell types a neuron is - categorical"
   ]
  },
  {
   "cell_type": "markdown",
   "metadata": {},
   "source": [
    "## Problem 1.4\n",
    "\n",
    "False. If $P(x_i) > 1$, then $\\sum_i P(x_i) > 1$, breaking the normalization condition.\n",
    "\n",
    "## Problem 1.5\n",
    "\n",
    "True. As long as $\\int_{-\\infty}^{\\infty} P(x) dx = 1$, it doesn't matter what $P(x)$ is. E.g. consider the distribution $P(x) = 2$ for $0 < x < 0.5$ and $0$ elsewhere."
   ]
  },
  {
   "cell_type": "markdown",
   "metadata": {},
   "source": [
    "## Problem 1.6\n",
    "\n",
    "Unitless"
   ]
  },
  {
   "cell_type": "markdown",
   "metadata": {},
   "source": [
    "## Problem 1.7\n",
    "\n",
    "Reciprocal of the units of your random variable.\n",
    "\n",
    "This is because \n",
    "\n",
    "$$\\int_a^b P(x) dx$$ must be unitless and $a$, $b$, and $dx$ are in the units of your random variable."
   ]
  },
  {
   "cell_type": "markdown",
   "metadata": {},
   "source": [
    "## Problem 1.8"
   ]
  },
  {
   "cell_type": "markdown",
   "metadata": {},
   "source": [
    "$$P(x) = \\frac{1}{\\beta}\\exp(-x/\\beta)$$ for $x >= 0$, 0 elsewhere.\n",
    "\n",
    "$$\\int_{-\\infty}^\\infty P(x)dx = \\int_{0}^\\infty \\frac{1}{\\beta}\\exp(-x/\\beta)dx = -\\exp(-\\infty/\\beta) - (-\\exp(0/\\beta)) = 1$$"
   ]
  },
  {
   "cell_type": "markdown",
   "metadata": {},
   "source": [
    "## Problem 2.1"
   ]
  },
  {
   "cell_type": "code",
   "execution_count": 2,
   "metadata": {},
   "outputs": [
    {
     "name": "stdout",
     "output_type": "stream",
     "text": [
      "[0 0 1 1 0 1 1 1 0 1 0 1 1 0 1 0 1 0 0 0]\n"
     ]
    }
   ],
   "source": [
    "import numpy as np\n",
    "\n",
    "x = np.random.uniform(0, 1, 20)\n",
    "print((x < .5).astype(int))"
   ]
  },
  {
   "cell_type": "code",
   "execution_count": 3,
   "metadata": {},
   "outputs": [
    {
     "name": "stdout",
     "output_type": "stream",
     "text": [
      "[0 1 0 0 0 1 1 0 1 1 0 1 1 1 1 1 1 0 0 1]\n"
     ]
    }
   ],
   "source": [
    "# also\n",
    "x = np.random.rand(20)\n",
    "print((x < .5).astype(int))"
   ]
  },
  {
   "cell_type": "markdown",
   "metadata": {},
   "source": [
    "## Problem 2.2"
   ]
  },
  {
   "cell_type": "code",
   "execution_count": 4,
   "metadata": {},
   "outputs": [
    {
     "name": "stdout",
     "output_type": "stream",
     "text": [
      "[0 0 0 1 1 0 1 1 0 0 0 1 0 0 0 0 0 0 0 0]\n"
     ]
    }
   ],
   "source": [
    "x = np.random.uniform(0, 1, 20)\n",
    "print((x < .25).astype(int))"
   ]
  },
  {
   "cell_type": "markdown",
   "metadata": {},
   "source": [
    "## Problem 2.3"
   ]
  },
  {
   "cell_type": "code",
   "execution_count": 5,
   "metadata": {},
   "outputs": [
    {
     "data": {
      "image/png": "[encoded data removed]",
      "text/plain": [
       "<Figure size 432x288 with 1 Axes>"
      ]
     },
     "metadata": {
      "needs_background": "light"
     },
     "output_type": "display_data"
    }
   ],
   "source": [
    "N = 1000\n",
    "BINS = 30\n",
    "\n",
    "# square of Gaussian random variable\n",
    "x = np.random.normal(0, 1, N)**2\n",
    "\n",
    "plt.hist(x, bins=30);"
   ]
  },
  {
   "cell_type": "code",
   "execution_count": 6,
   "metadata": {},
   "outputs": [
    {
     "data": {
      "image/png": "[encoded data removed]",
      "text/plain": [
       "<Figure size 432x288 with 1 Axes>"
      ]
     },
     "metadata": {
      "needs_background": "light"
     },
     "output_type": "display_data"
    }
   ],
   "source": [
    "# difference between two Gaussian random variables\n",
    "x = np.random.normal(0, 1, N) - np.random.normal(0, 1, N)\n",
    "\n",
    "plt.hist(x, bins=30);"
   ]
  },
  {
   "cell_type": "code",
   "execution_count": 7,
   "metadata": {},
   "outputs": [
    {
     "data": {
      "text/plain": [
       "(array([  3.,   7.,  21.,  68., 310., 412., 120.,  41.,  14.,   4.]),\n",
       " array([-12.7282838 , -10.23179023,  -7.73529666,  -5.2388031 ,\n",
       "         -2.74230953,  -0.24581596,   2.2506776 ,   4.74717117,\n",
       "          7.24366474,   9.7401583 ,  12.23665187]),\n",
       " <a list of 10 Patch objects>)"
      ]
     },
     "execution_count": 7,
     "metadata": {},
     "output_type": "execute_result"
    },
    {
     "data": {
      "image/png": "[encoded data removed]",
      "text/plain": [
       "<Figure size 432x288 with 1 Axes>"
      ]
     },
     "metadata": {
      "needs_background": "light"
     },
     "output_type": "display_data"
    }
   ],
   "source": [
    "# difference between two exponential random variables\n",
    "x = np.random.exponential(2, N) - np.random.exponential(2, N)\n",
    "\n",
    "plt.hist(x)"
   ]
  },
  {
   "cell_type": "code",
   "execution_count": 8,
   "metadata": {},
   "outputs": [
    {
     "data": {
      "image/png": "[encoded data removed]",
      "text/plain": [
       "<Figure size 432x288 with 1 Axes>"
      ]
     },
     "metadata": {
      "needs_background": "light"
     },
     "output_type": "display_data"
    }
   ],
   "source": [
    "# sum of two Gaussian random variables\n",
    "x = np.random.normal(0, 1, N) + np.random.normal(0, 1, N)\n",
    "\n",
    "plt.hist(x);"
   ]
  },
  {
   "cell_type": "code",
   "execution_count": 9,
   "metadata": {},
   "outputs": [
    {
     "data": {
      "text/plain": [
       "(array([227., 334., 204., 116.,  62.,  31.,  15.,   6.,   3.,   2.]),\n",
       " array([ 0.0763105 ,  1.87895472,  3.68159894,  5.48424316,  7.28688738,\n",
       "         9.0895316 , 10.89217582, 12.69482003, 14.49746425, 16.30010847,\n",
       "        18.10275269]),\n",
       " <a list of 10 Patch objects>)"
      ]
     },
     "execution_count": 9,
     "metadata": {},
     "output_type": "execute_result"
    },
    {
     "data": {
      "image/png": "[encoded data removed]",
      "text/plain": [
       "<Figure size 432x288 with 1 Axes>"
      ]
     },
     "metadata": {
      "needs_background": "light"
     },
     "output_type": "display_data"
    }
   ],
   "source": [
    "# sum of two exponential random variables\n",
    "x = np.random.exponential(2, N) + np.random.exponential(2, N)\n",
    "\n",
    "plt.hist(x)"
   ]
  },
  {
   "cell_type": "code",
   "execution_count": 10,
   "metadata": {},
   "outputs": [
    {
     "data": {
      "text/plain": [
       "(array([  9.,  36., 100., 172., 239., 210., 137.,  60.,  29.,   8.]),\n",
       " array([-28.67834854, -22.75866715, -16.83898576, -10.91930438,\n",
       "         -4.99962299,   0.92005839,   6.83973978,  12.75942116,\n",
       "         18.67910255,  24.59878393,  30.51846532]),\n",
       " <a list of 10 Patch objects>)"
      ]
     },
     "execution_count": 10,
     "metadata": {},
     "output_type": "execute_result"
    },
    {
     "data": {
      "image/png": "[encoded data removed]",
      "text/plain": [
       "<Figure size 432x288 with 1 Axes>"
      ]
     },
     "metadata": {
      "needs_background": "light"
     },
     "output_type": "display_data"
    }
   ],
   "source": [
    "# sum of 100 Gaussian random variables\n",
    "x = np.zeros(N)\n",
    "for i in range(100):\n",
    "    x = x + np.random.normal(0, 1, N)\n",
    "    \n",
    "plt.hist(x)"
   ]
  },
  {
   "cell_type": "code",
   "execution_count": 11,
   "metadata": {},
   "outputs": [
    {
     "data": {
      "text/plain": [
       "(array([  4.,  20.,  95., 172., 278., 238., 138.,  41.,  11.,   3.]),\n",
       " array([134.66907004, 148.44704499, 162.22501994, 176.00299489,\n",
       "        189.78096984, 203.55894479, 217.33691974, 231.11489469,\n",
       "        244.89286964, 258.67084459, 272.44881954]),\n",
       " <a list of 10 Patch objects>)"
      ]
     },
     "execution_count": 11,
     "metadata": {},
     "output_type": "execute_result"
    },
    {
     "data": {
      "image/png": "[encoded data removed]",
      "text/plain": [
       "<Figure size 432x288 with 1 Axes>"
      ]
     },
     "metadata": {
      "needs_background": "light"
     },
     "output_type": "display_data"
    }
   ],
   "source": [
    "# sum of 100 exponential random variables\n",
    "x = np.zeros(N)\n",
    "for i in range(100):\n",
    "    x = x + np.random.exponential(2, N)\n",
    "    \n",
    "plt.hist(x)"
   ]
  },
  {
   "cell_type": "markdown",
   "metadata": {},
   "source": [
    "## Problem 2.4"
   ]
  },
  {
   "cell_type": "markdown",
   "metadata": {},
   "source": [
    "$$E[X] = \\int_{-\\infty}^{\\infty} x P(x) dx = \\int_{0}^\\infty \\frac{x}{\\beta}\\exp(-x/\\beta)dx$$"
   ]
  },
  {
   "cell_type": "markdown",
   "metadata": {},
   "source": [
    "## Problem 2.5"
   ]
  },
  {
   "cell_type": "markdown",
   "metadata": {},
   "source": [
    "$$Var[X] = \\int_{-\\infty}^\\infty (x - E[X])^2 P(x) dx = \\int_{0}^\\infty \\frac{(x- E[x])^2}{\\beta}\\exp(-x/\\beta)dx$$"
   ]
  },
  {
   "cell_type": "markdown",
   "metadata": {},
   "source": [
    "## Problem 2.6"
   ]
  },
  {
   "cell_type": "markdown",
   "metadata": {},
   "source": [
    "We just need to solve this integral:\n",
    "\n",
    "$$\\int_{0}^\\infty \\frac{x}{\\beta}\\exp(-x/\\beta)dx$$"
   ]
  },
  {
   "cell_type": "markdown",
   "metadata": {},
   "source": [
    "Integrate by parts:\n",
    "\n",
    "$$\\int udv = uv - \\int vdu$$\n",
    "\n",
    "$$ u = x $$\n",
    "\n",
    "$$dv = \\frac{1}{\\beta}\\exp(-x/\\beta)dx$$\n",
    "\n",
    "$$ du = dx$$\n",
    "\n",
    "$$v = -\\exp(-x/\\beta)$$"
   ]
  },
  {
   "cell_type": "markdown",
   "metadata": {},
   "source": [
    "$$\\int_{0}^\\infty \\frac{x}{\\beta}\\exp(-x/\\beta)dx = -x\\exp(-x/\\beta) \\bigg\\rvert^\\infty_0 + \\int_0^\\infty \\exp(-x/\\beta)dx = 0 + \\beta = \\beta$$"
   ]
  },
  {
   "cell_type": "markdown",
   "metadata": {},
   "source": [
    "## Problem 3.1"
   ]
  },
  {
   "cell_type": "code",
   "execution_count": 12,
   "metadata": {},
   "outputs": [
    {
     "data": {
      "text/plain": [
       "Text(0, 0.5, 'Counts')"
      ]
     },
     "execution_count": 12,
     "metadata": {},
     "output_type": "execute_result"
    },
    {
     "data": {
      "image/png": "[encoded data removed]",
      "text/plain": [
       "<Figure size 432x288 with 1 Axes>"
      ]
     },
     "metadata": {
      "needs_background": "light"
     },
     "output_type": "display_data"
    }
   ],
   "source": [
    "%matplotlib inline\n",
    "import matplotlib.pyplot as plt\n",
    "import numpy as np\n",
    "\n",
    "x = np.random.normal(0, 2, 30)\n",
    "\n",
    "plt.hist(x, bins=10)\n",
    "\n",
    "plt.xlabel('x')\n",
    "plt.ylabel('Counts')"
   ]
  },
  {
   "cell_type": "code",
   "execution_count": 13,
   "metadata": {},
   "outputs": [
    {
     "name": "stdout",
     "output_type": "stream",
     "text": [
      "Sample mean = -0.876388125720085\n"
     ]
    }
   ],
   "source": [
    "# mean\n",
    "n = len(x)\n",
    "total = 0\n",
    "for i in range(n):\n",
    "    total += x[i]\n",
    "mean = total / n\n",
    "\n",
    "print('Sample mean =', mean)"
   ]
  },
  {
   "cell_type": "code",
   "execution_count": 14,
   "metadata": {},
   "outputs": [
    {
     "name": "stdout",
     "output_type": "stream",
     "text": [
      "Sample variance = 3.119015694776773\n"
     ]
    }
   ],
   "source": [
    "# variance\n",
    "total = 0\n",
    "for i in range(n):\n",
    "    total += (x[i] - mean)**2\n",
    "var = total / (n-1)\n",
    "\n",
    "print('Sample variance =', var)"
   ]
  },
  {
   "cell_type": "code",
   "execution_count": 15,
   "metadata": {},
   "outputs": [
    {
     "name": "stdout",
     "output_type": "stream",
     "text": [
      "Sample mean = -0.8763881257200852\n",
      "Sample variance = 3.119015694776772\n"
     ]
    }
   ],
   "source": [
    "# built-in way of doing this\n",
    "print('Sample mean =', np.mean(x))\n",
    "print('Sample variance =', np.var(x, ddof=1))"
   ]
  },
  {
   "cell_type": "markdown",
   "metadata": {},
   "source": [
    "## Problem 3.2"
   ]
  },
  {
   "cell_type": "code",
   "execution_count": 16,
   "metadata": {},
   "outputs": [
    {
     "data": {
      "text/plain": [
       "Text(0, 0.5, 'Counts')"
      ]
     },
     "execution_count": 16,
     "metadata": {},
     "output_type": "execute_result"
    },
    {
     "data": {
      "image/png": "[encoded data removed]",
      "text/plain": [
       "<Figure size 432x288 with 1 Axes>"
      ]
     },
     "metadata": {
      "needs_background": "light"
     },
     "output_type": "display_data"
    }
   ],
   "source": [
    "N_EXPT = 100\n",
    "N_SAMPLE = 30\n",
    "\n",
    "sample_means = []\n",
    "\n",
    "for expt_ctr in range(N_EXPT):\n",
    "    x = np.random.normal(0, 2, N_SAMPLE)\n",
    "    sample_mean = np.mean(x)\n",
    "    sample_means.append(sample_mean)\n",
    "    \n",
    "plt.hist(sample_means)\n",
    "plt.xlabel('sample mean')\n",
    "plt.ylabel('Counts')"
   ]
  },
  {
   "cell_type": "markdown",
   "metadata": {},
   "source": [
    "## Problem 3.3"
   ]
  },
  {
   "cell_type": "code",
   "execution_count": 17,
   "metadata": {},
   "outputs": [
    {
     "data": {
      "image/png": "[encoded data removed]",
      "text/plain": [
       "<Figure size 432x288 with 1 Axes>"
      ]
     },
     "metadata": {
      "needs_background": "light"
     },
     "output_type": "display_data"
    },
    {
     "data": {
      "image/png": "[encoded data removed]",
      "text/plain": [
       "<Figure size 432x288 with 1 Axes>"
      ]
     },
     "metadata": {
      "needs_background": "light"
     },
     "output_type": "display_data"
    },
    {
     "data": {
      "image/png": "[encoded data removed]",
      "text/plain": [
       "<Figure size 432x288 with 1 Axes>"
      ]
     },
     "metadata": {
      "needs_background": "light"
     },
     "output_type": "display_data"
    },
    {
     "data": {
      "image/png": "[encoded data removed]",
      "text/plain": [
       "<Figure size 432x288 with 1 Axes>"
      ]
     },
     "metadata": {
      "needs_background": "light"
     },
     "output_type": "display_data"
    },
    {
     "data": {
      "image/png": "[encoded data removed]",
      "text/plain": [
       "<Figure size 432x288 with 1 Axes>"
      ]
     },
     "metadata": {
      "needs_background": "light"
     },
     "output_type": "display_data"
    },
    {
     "data": {
      "image/png": "[encoded data removed]",
      "text/plain": [
       "<Figure size 432x288 with 1 Axes>"
      ]
     },
     "metadata": {
      "needs_background": "light"
     },
     "output_type": "display_data"
    }
   ],
   "source": [
    "N_EXPT = 100\n",
    "\n",
    "for N_SAMPLE in [10, 30, 50, 100, 1000, 5000]:\n",
    "    \n",
    "    sample_means = []\n",
    "    \n",
    "    for expt_ctr in range(N_EXPT):\n",
    "        \n",
    "        x = np.random.normal(0, 2, N_SAMPLE)\n",
    "        sample_mean = np.mean(x)\n",
    "        sample_means.append(sample_mean)\n",
    "    \n",
    "    plt.figure()\n",
    "    plt.hist(sample_means)\n",
    "    plt.xlim(-3, 3)\n",
    "    plt.xlabel('Sample mean')\n",
    "    plt.ylabel('Count')\n",
    "    plt.title('N_SAMPLE =' + str(N_SAMPLE))"
   ]
  },
  {
   "cell_type": "markdown",
   "metadata": {},
   "source": [
    "The variance of the sample means decreases as the number of samples per experiments decreases."
   ]
  },
  {
   "cell_type": "markdown",
   "metadata": {},
   "source": [
    "## Problem 3.4"
   ]
  },
  {
   "cell_type": "markdown",
   "metadata": {},
   "source": [
    "$$X \\sim Uniform(-1, 1)$$\n",
    "\n",
    "$$P(X) = 1/2 \\;for \\; -1 \\leq x \\leq 1$$\n",
    "\n",
    "$$E[|X|] = \\int_{-1}^1 |x|P(x)dx = 1/2\\int_{-1}^1 |x|dx = 1/2\\left(\\int_{-1}^0 -xdx + \\int_0^1 xdx\\right) = 1/2$$"
   ]
  },
  {
   "cell_type": "markdown",
   "metadata": {},
   "source": [
    "## Problem 3.5"
   ]
  },
  {
   "cell_type": "code",
   "execution_count": 18,
   "metadata": {},
   "outputs": [
    {
     "name": "stdout",
     "output_type": "stream",
     "text": [
      "0.499801729066553\n"
     ]
    }
   ],
   "source": [
    "x = np.random.uniform(-1, 1, 1000)\n",
    "print(np.mean(np.abs(x)))"
   ]
  }
 ],
 "metadata": {
  "kernelspec": {
   "display_name": "Python 3",
   "language": "python",
   "name": "python3"
  },
  "language_info": {
   "codemirror_mode": {
    "name": "ipython",
    "version": 3
   },
   "file_extension": ".py",
   "mimetype": "text/x-python",
   "name": "python",
   "nbconvert_exporter": "python",
   "pygments_lexer": "ipython3",
   "version": "3.6.9"
  }
 },
 "nbformat": 4,
 "nbformat_minor": 2
}
