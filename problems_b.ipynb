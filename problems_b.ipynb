{
 "cells": [
  {
   "cell_type": "markdown",
   "metadata": {},
   "source": [
    "## Problem 4.1\n",
    "\n",
    "1024 pixels (32 times 32) + 20 firing rates = 1044 variables in total:\n",
    "\n",
    "$[x_{1,1}, x_{1,2}, ..., x_{32,32}, z_1, ..., z_{20}]$"
   ]
  },
  {
   "cell_type": "markdown",
   "metadata": {},
   "source": [
    "## Problem 4.2\n",
    "\n",
    "3 neurons x 1000 time bins per neuron = 3000 variables in total:\n",
    "\n",
    "$[z_{1,1}, ..., z_{1,1000}, z_{2,1}, ..., z_{2,1000}, z_{3,1}, ..., z_{3,1000}]$"
   ]
  },
  {
   "cell_type": "markdown",
   "metadata": {},
   "source": [
    "## Problem 4.3\n",
    "\n",
    "(3 neurons x 1000 time bins per neuron) + (2 behaviors x 1000 time bins per behavior) = 3000 + 2000 = 5000 variables in total.\n",
    "\n",
    "$[z_{1,1}, ..., z_{1,1000}, z_{2,1}, ..., z_{2,1000}, z_{3,1}, ..., z_{3,1000}, y_{1,1}, ..., y_{1,1000}, y_{2,1}, ..., y_{2,1000}]$"
   ]
  },
  {
   "cell_type": "markdown",
   "metadata": {},
   "source": [
    "## Problem 4.4\n",
    "\n",
    "10 channels x 5 seconds x 2000 samples/second = 100,000. (The movie is not random).\n",
    "\n",
    "$[z_{1,1}, ..., z_{1,10000}, z_{2,1}, ..., z_{2,10000}, ..., z_{10,1}, ..., z_{10,10000}]$"
   ]
  },
  {
   "cell_type": "markdown",
   "metadata": {},
   "source": [
    "## Problem 4.5\n",
    "\n",
    "10 channels time-averaged = 10.\n",
    "\n",
    "$[z_{1}, ..., z_{10}]$"
   ]
  },
  {
   "cell_type": "markdown",
   "metadata": {},
   "source": [
    "## Problem 4.6\n",
    "\n",
    "100,000 + 5 seconds x 30 fps x 1280 x 720 = 138340000\n",
    "\n",
    "Wow!"
   ]
  },
  {
   "cell_type": "markdown",
   "metadata": {},
   "source": [
    "## Problem 4.7\n",
    "\n",
    "Since every neuron connects to every other neuron, the connectivity is given by an N x N matrix, i.e. $N^2$ total values"
   ]
  },
  {
   "cell_type": "markdown",
   "metadata": {},
   "source": [
    "## Problem 4.8\n",
    "\n",
    "The original data is an $N \\times T$ matrix, so when we average over $T$ we're left with $N$ numbers."
   ]
  },
  {
   "cell_type": "markdown",
   "metadata": {},
   "source": [
    "## Problem 5.1\n",
    "$P(A=2, B=3) = 0.04$"
   ]
  },
  {
   "cell_type": "markdown",
   "metadata": {},
   "source": [
    "## Problem 5.2\n",
    "$P(A = 1) = \\sum_j P(A = 1, B = b_j)$\n",
    "\n",
    "$= P(A=1, B=0) + P(A=1, B=1) + P(A=1, B=2) + P(A=1, B=3)$\n",
    "\n",
    "$= .1 + .07 +.04 +.1 = .31$"
   ]
  },
  {
   "cell_type": "markdown",
   "metadata": {},
   "source": [
    "## Problem 5.3\n",
    "$E[A] = 0*P(A=0) + 1*P(A=1) + 2*P(A=2) + 3*P(A=3)$\n",
    "\n",
    "$= 0 + 1*.31 + 2*.22 + 3*.22 = 1.41$"
   ]
  },
  {
   "cell_type": "markdown",
   "metadata": {},
   "source": [
    "## Problem 5.4\n",
    "\n",
    "$E[B] = 0*P(B=0) + 1*P(B=1) + 2*P(B=2) + 3*P(B=3)$\n",
    "\n",
    "$ = 0 + 1*.22 + 2*.31 + 3*.25 = 1.59$"
   ]
  },
  {
   "cell_type": "markdown",
   "metadata": {},
   "source": [
    "## Problem 5.5\n",
    "\n",
    "$E[[A,B]] = [0, 0]*P(A=0, B=0) + [1, 0]*P(A=1, B=0)$\n",
    "\n",
    "$+ [2, 0]*P(A=2, B=0) + ... + [3, 3]*P(A=3, B=3)$\n",
    "\n",
    "$= [1.41, 1.59]$\n",
    "\n",
    "$= [E[A], E[B]]$"
   ]
  },
  {
   "cell_type": "markdown",
   "metadata": {},
   "source": [
    "## Problem 5.6\n",
    "\n",
    "$Cov[A, B] = E[(A-E[A])(B-E[B])] = E[(A-1.41)(B-1.59)]$\n",
    "\n",
    "$= \\sum_{i,j} (a_i - 1.41)(b_j - 1.59)p(A=a_i, B=b_j)$"
   ]
  },
  {
   "cell_type": "markdown",
   "metadata": {},
   "source": [
    "## Problem 5.7\n",
    "\n",
    "$Cov[A, B] = (0-1.41)(0-1.59)(.04) + (1-1.41)(0-1.59)(.1) + ... + (3-1.41)(3-1.59)(.04)$\n",
    "\n",
    "$=-.0519$"
   ]
  },
  {
   "cell_type": "code",
   "execution_count": 123,
   "metadata": {},
   "outputs": [
    {
     "data": {
      "text/plain": [
       "-0.05189999999999996"
      ]
     },
     "execution_count": 123,
     "metadata": {},
     "output_type": "execute_result"
    }
   ],
   "source": [
    "p_ab = np.array([\n",
    "  #   0    1    2    3  \n",
    "    [.04, 0.1, .04, .04],  # 0 \n",
    "    [.04, .07, .07, .04],  # 1\n",
    "    [0.1, .04, .07, 0.1],  # 2\n",
    "    [.07, 0.1, .04, .04],  # 3\n",
    "])\n",
    "\n",
    "cov = 0\n",
    "\n",
    "for j in range(4):\n",
    "    for i in range(4):\n",
    "        cov += (j - 1.41)*(i - 1.59)*p_ab[i, j]\n",
    "        \n",
    "cov"
   ]
  },
  {
   "cell_type": "raw",
   "metadata": {},
   "source": [
    "p_a = p_ab.sum(0)  # marginal probabilty o\n",
    "p_b = p_ab.sum(1)\n",
    "\n",
    "e_a = p_a.dot(np.arange(4))\n",
    "e_b = p_b.dot(np.arange(4))\n",
    "\n",
    "p_b.dot((np.arange(4) - e_b)**2 )"
   ]
  },
  {
   "cell_type": "markdown",
   "metadata": {},
   "source": [
    "## Problem 5.8\n",
    "$$Corr[A, B] = \\frac{Cov[A, B]}{\\sqrt{Var[A]Var[B]}}$$\n",
    "\n",
    "$Var[A] = \\sum_i(a_i - 1.41)^2p(A=a_i)$\n",
    "\n",
    "$= (0-1.41)^2(.25) + (1-1.41)^2(.31) + (2-1.41)^2(.22) + (3-1.41)^2(.22)$\n",
    "\n",
    "$=1.1819$"
   ]
  },
  {
   "cell_type": "markdown",
   "metadata": {},
   "source": [
    "$Var[B] = \\sum_j(b_j-1.59)^2p(B=b_j)$\n",
    "\n",
    "$=(0-1.59)^2(.22) + (1-1.59)^2(.22) + (2-1.59)^2(.31) + (3-1.59)^2(.25)$\n",
    "\n",
    "$=1.1819$"
   ]
  },
  {
   "cell_type": "markdown",
   "metadata": {},
   "source": [
    "$Corr[A, B] = -.0519/1.1819 \\approx -.0439$"
   ]
  },
  {
   "cell_type": "markdown",
   "metadata": {},
   "source": [
    "## Problem 5.9\n",
    "\n",
    "No. $p(A, B) \\neq p(A)p(B)$\n",
    "\n",
    "E.g. $p(A=0)p(B=0) = (.25)(.22) = .055 \\neq .04$"
   ]
  },
  {
   "cell_type": "code",
   "execution_count": 14,
   "metadata": {},
   "outputs": [
    {
     "data": {
      "text/plain": [
       "-0.08430000000000006"
      ]
     },
     "execution_count": 14,
     "metadata": {},
     "output_type": "execute_result"
    }
   ],
   "source": [
    "import numpy as np\n",
    "\n",
    "p_ab = np.array([\n",
    "    [.04, .1, .04, .04],\n",
    "    [.04, .07, .07, .04],\n",
    "    [.1, .04, .07, .1],\n",
    "    [.07, .1, .04, .04],\n",
    "])\n",
    "\n",
    "mean = np.array([0. ,0])\n",
    "for a_ctr, a in enumerate(range(4)):\n",
    "    for b_ctr, b in enumerate(range(4)):\n",
    "        mean += np.array([a, b])*p_ab[a_ctr, b_ctr]\n",
    "        \n",
    "mean\n",
    "\n",
    "cov = 0\n",
    "\n",
    "for a_ctr, a in enumerate(range(4)):\n",
    "    for b_ctr, b in enumerate(range(4)):\n",
    "        cov += (a - 1.41)*(b - 1.59)*p_ab[a_ctr, b_ctr]\n",
    "        \n",
    "cov"
   ]
  },
  {
   "cell_type": "code",
   "execution_count": 15,
   "metadata": {},
   "outputs": [
    {
     "data": {
      "text/plain": [
       "array([[0.055 , 0.0682, 0.0484, 0.0484],\n",
       "       [0.055 , 0.0682, 0.0484, 0.0484],\n",
       "       [0.0775, 0.0961, 0.0682, 0.0682],\n",
       "       [0.0625, 0.0775, 0.055 , 0.055 ]])"
      ]
     },
     "execution_count": 15,
     "metadata": {},
     "output_type": "execute_result"
    }
   ],
   "source": [
    "p_a = p_ab.sum(0)\n",
    "p_b = p_ab.sum(1)\n",
    "\n",
    "np.dot(p_b[:, None], p_a[None, :])"
   ]
  },
  {
   "cell_type": "code",
   "execution_count": 19,
   "metadata": {},
   "outputs": [
    {
     "data": {
      "text/plain": [
       "1.1819000000000002"
      ]
     },
     "execution_count": 19,
     "metadata": {},
     "output_type": "execute_result"
    }
   ],
   "source": [
    "np.dot((np.arange(4)-1.59)**2, p_b)"
   ]
  },
  {
   "cell_type": "code",
   "execution_count": 21,
   "metadata": {},
   "outputs": [
    {
     "data": {
      "text/plain": [
       "array([0.25, 0.31, 0.22, 0.22])"
      ]
     },
     "execution_count": 21,
     "metadata": {},
     "output_type": "execute_result"
    }
   ],
   "source": [
    "p_a"
   ]
  },
  {
   "cell_type": "code",
   "execution_count": 22,
   "metadata": {},
   "outputs": [
    {
     "data": {
      "text/plain": [
       "array([0.22, 0.22, 0.31, 0.25])"
      ]
     },
     "execution_count": 22,
     "metadata": {},
     "output_type": "execute_result"
    }
   ],
   "source": [
    "p_b"
   ]
  },
  {
   "cell_type": "code",
   "execution_count": 23,
   "metadata": {},
   "outputs": [
    {
     "data": {
      "text/plain": [
       "0.055"
      ]
     },
     "execution_count": 23,
     "metadata": {},
     "output_type": "execute_result"
    }
   ],
   "source": [
    ".25*.22"
   ]
  },
  {
   "cell_type": "markdown",
   "metadata": {},
   "source": [
    "## Problem 6.1\n",
    "\n",
    "50 elements (every sample is a 50-element vector, so an average over the random process is also a 50-element vector)."
   ]
  },
  {
   "cell_type": "markdown",
   "metadata": {},
   "source": [
    "## Problem 6.2\n",
    "\n",
    "$$Cov[X, Y] = E[(X-E[X])(Y-E[Y])]$$\n",
    "\n",
    "$$ =\\int_{-\\infty}^{\\infty}\\int_{-\\infty}^{\\infty}(x-E[X])(y-E[Y])P(x, y)dxdy$$"
   ]
  },
  {
   "cell_type": "markdown",
   "metadata": {},
   "source": [
    "## Problem 6.3\n",
    "\n",
    "1024 x 1024. Each row or column corresponds to 1 pixel. Each element corresponds to one pair of pixels."
   ]
  },
  {
   "cell_type": "markdown",
   "metadata": {},
   "source": [
    "## Problem 6.4"
   ]
  },
  {
   "cell_type": "markdown",
   "metadata": {},
   "source": [
    "$$\\hat\\mu_i = \\frac{1}{N}\\sum_{a=1}^N x^i_a$$\n",
    "\n",
    "$$\\hat{K}_{i,j} = \\frac{1}{N-1}\\sum_{a=1}^N (x^i_a-E[X^i])(x^j_a-E[Y^j]) $$"
   ]
  },
  {
   "cell_type": "code",
   "execution_count": 13,
   "metadata": {},
   "outputs": [],
   "source": [
    "import numpy as np\n",
    "\n",
    "N = 50\n",
    "T = 300\n",
    "\n",
    "np.random.seed(0)\n",
    "\n",
    "x_1 = np.random.normal(10, 1, T)[:, None]\n",
    "x_2 = np.random.normal(10, 1, T)[:, None]\n",
    "x_3 = np.random.normal(10, 1, T)[:, None]\n",
    "\n",
    "a = np.linspace(0, 1, N)\n",
    "y_1 = np.exp(-((a-.1)**2)/.05)[None, :]\n",
    "y_2 = np.exp(-((a-.3)**2)/.05)[None, :]\n",
    "y_3 = np.exp(-((a-.8)**2)/.05)[None, :]\n",
    "\n",
    "X = x_1.dot(y_1) + x_2.dot(y_2) + x_3.dot(y_3)\n",
    "X += np.random.normal(0, .5, X.shape)\n",
    "\n",
    "np.save('firing_rates.npy', np.array([{'data': X}]))"
   ]
  },
  {
   "cell_type": "code",
   "execution_count": 15,
   "metadata": {},
   "outputs": [
    {
     "data": {
      "image/png": "[encoded data removed]",
      "text/plain": [
       "<Figure size 288x288 with 1 Axes>"
      ]
     },
     "metadata": {
      "needs_background": "light"
     },
     "output_type": "display_data"
    }
   ],
   "source": [
    "%matplotlib inline\n",
    "%reset -f\n",
    "import matplotlib.pyplot as plt\n",
    "import numpy as np\n",
    "\n",
    "X = np.load('firing_rates.npy', allow_pickle=True)[0]['data']\n",
    "\n",
    "T = X.shape[0]\n",
    "N = X.shape[1]\n",
    "\n",
    "mu = np.mean(X, 0)\n",
    "K = np.nan * np.zeros((N, N))\n",
    "\n",
    "for i in range(N):\n",
    "    for j in range(N):\n",
    "        K[i, j] = (1/(N-1)) * np.sum((X[:, i] - mu[i])*(X[:, j] - mu[j]))\n",
    "        \n",
    "plt.matshow(K)\n",
    "plt.xlabel('Cell A')\n",
    "plt.ylabel('Cell B')\n",
    "plt.title('Cell-cell covariance estimate\\n');"
   ]
  },
  {
   "cell_type": "markdown",
   "metadata": {},
   "source": [
    "## Problem 7.1"
   ]
  },
  {
   "cell_type": "code",
   "execution_count": 1,
   "metadata": {},
   "outputs": [
    {
     "data": {
      "image/png": "[encoded data removed]",
      "text/plain": [
       "<Figure size 864x216 with 1 Axes>"
      ]
     },
     "metadata": {
      "needs_background": "light"
     },
     "output_type": "display_data"
    }
   ],
   "source": [
    "%matplotlib inline\n",
    "import matplotlib.pyplot as plt\n",
    "import numpy as np\n",
    "\n",
    "from disp import set_font_size\n",
    "\n",
    "\n",
    "v = np.linspace(-100, 300, 5000)\n",
    "p_v_still = (1/np.sqrt(2*np.pi*(25**2))) * np.exp(-.5*((v - 50)**2)/(25**2))\n",
    "p_v_move = (1/np.sqrt(2*np.pi*(25**2))) * np.exp(-.5*((v - 100)**2)/(25**2))\n",
    "\n",
    "fig, ax = plt.subplots(1, 1, figsize=(12, 3), tight_layout=True)\n",
    "ax.plot(v, p_v_still, color='k', lw=4)\n",
    "ax.plot(v, p_v_move, color='r', lw=4)\n",
    "\n",
    "ax.set_xlabel('Voltage ($\\mu$V)')\n",
    "ax.set_ylabel('Probability\\ndensity (1/$\\mu V$)')\n",
    "\n",
    "ax.legend(['P(V|still)', 'P(V|move)'])\n",
    "ax.grid()\n",
    "\n",
    "set_font_size(ax, 20)"
   ]
  },
  {
   "cell_type": "markdown",
   "metadata": {},
   "source": [
    "We want to find $P(move|V)$ for $V = 75\\mu V$ and $V = 100 \\mu V$."
   ]
  },
  {
   "cell_type": "markdown",
   "metadata": {},
   "source": [
    "We know:"
   ]
  },
  {
   "cell_type": "markdown",
   "metadata": {},
   "source": [
    "$$P(move) = 0.1$$\n",
    "\n",
    "$$P(still) = 1 - P(move) = .9$$\n",
    "\n",
    "$$P(V|still) = \\frac{1}{\\sqrt{2\\pi (25 \\mu V)^2}}\\exp\\left(-\\frac{1}{2}\\frac{(V - 50 \\mu V)^2}{(25 \\mu V)^2}\\right)$$\n",
    "\n",
    "$$P(V|move) = \\frac{1}{\\sqrt{2\\pi (25 \\mu V)^2}}\\exp\\left(-\\frac{1}{2}\\frac{(V - 100 \\mu V)^2}{(25 \\mu V)^2}\\right)$$"
   ]
  },
  {
   "cell_type": "markdown",
   "metadata": {},
   "source": [
    "Using Bayes' theorem:"
   ]
  },
  {
   "cell_type": "markdown",
   "metadata": {},
   "source": [
    "$$P(move|V = 75\\mu V) = \\frac{P(V = 75 \\mu V|move)P(move)}{P(V = 75 \\mu V)}$$\n",
    "\n",
    "$$P(V = 75 \\mu V) = P(V = 75 \\mu V|move)P(move) + P(V = 75 \\mu V|still)P(still)$$\n",
    "\n",
    "$$\\approx (.01/\\mu V)(.1) + (.01/\\mu V)(.9) = .01/\\mu V$$"
   ]
  },
  {
   "cell_type": "markdown",
   "metadata": {},
   "source": [
    "$$P(move|V = 75 \\mu V) = \\frac{.01 \\times .1}{.01} = .1$$"
   ]
  },
  {
   "cell_type": "markdown",
   "metadata": {},
   "source": [
    "$$P(move|V = 100\\mu V) = \\frac{P(V = 100 \\mu V|move)P(move)}{P(V = 100 \\mu V)}$$\n",
    "\n",
    "$$P(V = 100 \\mu V) = P(V = 100 \\mu V|move)P(move) + P(V = 100 \\mu V|still)P(still)$$\n",
    "\n",
    "$$\\approx .016(.1) + .002(.9) = .0034$$"
   ]
  },
  {
   "cell_type": "markdown",
   "metadata": {},
   "source": [
    "$$P(move|V = 100\\mu V) = \\frac{P(V = 100 \\mu V|move)P(move)}{P(V = 100 \\mu V)}$$\n",
    "\n",
    "$$=\\frac{.016(.1)}{.0034} \\approx .47$$"
   ]
  },
  {
   "cell_type": "code",
   "execution_count": 33,
   "metadata": {},
   "outputs": [
    {
     "data": {
      "text/plain": [
       "0.009678828980765735"
      ]
     },
     "execution_count": 33,
     "metadata": {},
     "output_type": "execute_result"
    }
   ],
   "source": [
    "# p(V = 75 uV|move)\n",
    "(1/np.sqrt(2*np.pi*(25**2))) * np.exp(-.5*((75 - 100)**2)/(25**2))"
   ]
  },
  {
   "cell_type": "code",
   "execution_count": 34,
   "metadata": {},
   "outputs": [
    {
     "data": {
      "text/plain": [
       "0.009678828980765735"
      ]
     },
     "execution_count": 34,
     "metadata": {},
     "output_type": "execute_result"
    }
   ],
   "source": [
    "# p(V = 75 uV|still)\n",
    "(1/np.sqrt(2*np.pi*(25**2))) * np.exp(-.5*((75 - 50)**2)/(25**2))"
   ]
  },
  {
   "cell_type": "code",
   "execution_count": 36,
   "metadata": {},
   "outputs": [
    {
     "data": {
      "text/plain": [
       "0.015957691216057307"
      ]
     },
     "execution_count": 36,
     "metadata": {},
     "output_type": "execute_result"
    }
   ],
   "source": [
    "# p(V = 100 uV|move)\n",
    "(1/np.sqrt(2*np.pi*(25**2))) * np.exp(-.5*((100 - 100)**2)/(25**2))"
   ]
  },
  {
   "cell_type": "code",
   "execution_count": 37,
   "metadata": {},
   "outputs": [
    {
     "data": {
      "text/plain": [
       "0.002159638660527522"
      ]
     },
     "execution_count": 37,
     "metadata": {},
     "output_type": "execute_result"
    }
   ],
   "source": [
    "# p(V = 100 uV|still)\n",
    "(1/np.sqrt(2*np.pi*(25**2))) * np.exp(-.5*((100 - 50)**2)/(25**2))"
   ]
  },
  {
   "cell_type": "markdown",
   "metadata": {},
   "source": [
    "## Problem 7.2"
   ]
  },
  {
   "cell_type": "markdown",
   "metadata": {},
   "source": [
    "We want $P(cat|spike)$. We know:\n",
    "\n",
    "$P(spike|cat) = .8$\n",
    "\n",
    "$P(spike|dog) = .2$\n",
    "\n",
    "$P(cat) = .25$\n",
    "\n",
    "$P(dog) = .75$.\n"
   ]
  },
  {
   "cell_type": "markdown",
   "metadata": {},
   "source": [
    "Using Bayes' Law:\n",
    "\n",
    "$$P(cat|spike) = \\frac{P(spike|cat)P(cat)}{P(spike)}$$"
   ]
  },
  {
   "cell_type": "markdown",
   "metadata": {},
   "source": [
    "To solve, we still need $P(spike)$:\n",
    "\n",
    "$P(spike) = P(spike|cat)P(cat) + P(spike|dog)P(dog)$\n",
    "\n",
    "$=.8*.25 + .2*.75 = .35$"
   ]
  },
  {
   "cell_type": "markdown",
   "metadata": {},
   "source": [
    "So $$P(cat|spike) = \\frac{.8(.25)}{.35} \\approx .57 $$"
   ]
  },
  {
   "cell_type": "markdown",
   "metadata": {},
   "source": [
    "When $P(cat) = P(dog) = 0.5$:\n",
    "\n",
    "$P(spike) = .8*.5 + .2*.5 = .5$"
   ]
  },
  {
   "cell_type": "markdown",
   "metadata": {},
   "source": [
    "So $P(cat|spike) = \\frac{.8(.5)}{.5} = .8$"
   ]
  },
  {
   "cell_type": "markdown",
   "metadata": {},
   "source": [
    "## Problem 8.1"
   ]
  },
  {
   "cell_type": "markdown",
   "metadata": {},
   "source": [
    "A: Positive. B: near zero. C: near zero."
   ]
  },
  {
   "cell_type": "markdown",
   "metadata": {},
   "source": [
    "## Problem 8.2"
   ]
  },
  {
   "cell_type": "markdown",
   "metadata": {},
   "source": [
    "A: Positive. B: negative. C: Positive."
   ]
  },
  {
   "cell_type": "markdown",
   "metadata": {},
   "source": [
    "## Problem 8.3"
   ]
  },
  {
   "cell_type": "markdown",
   "metadata": {},
   "source": [
    "$$X_t = .9X_{t-1} + \\eta$$\n",
    "\n",
    "$$\\eta \\sim Gaussian(0, 1); X_0 = 0$$"
   ]
  },
  {
   "cell_type": "code",
   "execution_count": 78,
   "metadata": {},
   "outputs": [
    {
     "data": {
      "image/png": "[encoded data removed]",
      "text/plain": [
       "<Figure size 864x288 with 1 Axes>"
      ]
     },
     "metadata": {
      "needs_background": "light"
     },
     "output_type": "display_data"
    }
   ],
   "source": [
    "%matplotlib inline\n",
    "import matplotlib.pyplot as plt\n",
    "import numpy as np\n",
    "\n",
    "from disp import set_font_size\n",
    "\n",
    "N = 100\n",
    "T = 1000\n",
    "\n",
    "ts = np.arange(T)\n",
    "xs = np.nan * np.zeros((N, T))\n",
    "xs[:, 0] = 0\n",
    "\n",
    "for i in range(N):\n",
    "    for t in range(1, T):\n",
    "        xs[i, t] = .9*xs[i, t-1] + np.random.normal(0, 1)\n",
    "    \n",
    "fig, ax = plt.subplots(1, 1, figsize=(12, 4), tight_layout=True)\n",
    "ax.plot(ts, xs[0])\n",
    "ax.set_xlabel('Time step')\n",
    "ax.set_ylabel('$X_t$')\n",
    "\n",
    "set_font_size(ax, 20)"
   ]
  },
  {
   "cell_type": "markdown",
   "metadata": {},
   "source": [
    "Calculate autocovariance function"
   ]
  },
  {
   "cell_type": "code",
   "execution_count": 79,
   "metadata": {},
   "outputs": [],
   "source": [
    "# sweep over delta t\n",
    "dts = np.arange(-200, 200)\n",
    "cov = np.nan * np.zeros(dts.shape)\n",
    "\n",
    "for dt_ctr, dt in enumerate(dts):\n",
    "    # get ensemble of pairs of values\n",
    "    x_1 = []\n",
    "    x_2 = []\n",
    "    \n",
    "    for t_1 in range(T):\n",
    "        t_2 = t_1 + dt\n",
    "        if 0 <= t_2 < T:\n",
    "            x_1.append(xs[:, t_1])\n",
    "            x_2.append(xs[:, t_2])\n",
    "            \n",
    "    x_1 = np.concatenate(x_1)\n",
    "    x_2 = np.concatenate(x_2)\n",
    "    \n",
    "    cov[dt_ctr] = np.cov(np.array([x_1, x_2]))[0, 1]"
   ]
  },
  {
   "cell_type": "code",
   "execution_count": 81,
   "metadata": {},
   "outputs": [
    {
     "data": {
      "image/png": "[encoded data removed]",
      "text/plain": [
       "<Figure size 720x288 with 1 Axes>"
      ]
     },
     "metadata": {
      "needs_background": "light"
     },
     "output_type": "display_data"
    }
   ],
   "source": [
    "fig, ax = plt.subplots(1, 1, figsize=(10, 4), tight_layout=True)\n",
    "ax.plot(dts, cov, lw=3)\n",
    "ax.set_xlabel('$\\Delta t$')\n",
    "ax.set_ylabel('$C(\\Delta t)$')\n",
    "\n",
    "set_font_size(ax, 20)"
   ]
  },
  {
   "cell_type": "markdown",
   "metadata": {},
   "source": [
    "## Problem 9.1"
   ]
  },
  {
   "cell_type": "markdown",
   "metadata": {},
   "source": [
    "$$H[X] = -\\sum_i p(x_i) \\ln(p(x_i)) = -\\sum_i 1/N \\ln(1/N) = -N/N\\ln(1/N) = -\\ln(1/N) = \\ln(N)$$"
   ]
  },
  {
   "cell_type": "markdown",
   "metadata": {},
   "source": [
    "## Problem 9.2"
   ]
  },
  {
   "cell_type": "markdown",
   "metadata": {},
   "source": [
    "Left: $H[X] = -(.3\\ln.3 + .3\\ln.3 + .2\\ln.2 + .2\\ln.2) \\approx 1.366$"
   ]
  },
  {
   "cell_type": "markdown",
   "metadata": {},
   "source": [
    "Middle: $H[X] = -(.4\\ln.4 + .4\\ln.4 + .1\\ln.1 + .1\\ln.1) \\approx 1.19355$"
   ]
  },
  {
   "cell_type": "markdown",
   "metadata": {},
   "source": [
    "Right: $H[X] \\approx 1.19355$\n",
    "\n",
    "Note: Entropy of a probability mass function does not depend on the values of $X$, only on their probabilities. "
   ]
  },
  {
   "cell_type": "markdown",
   "metadata": {},
   "source": [
    "## Problem 9.3\n",
    "\n",
    "Coin flip, die roll, random word, random sequence."
   ]
  },
  {
   "cell_type": "markdown",
   "metadata": {},
   "source": [
    "## Problem 9.4\n",
    "\n",
    "Summer day, random day in Muiz, random day in random city."
   ]
  },
  {
   "cell_type": "markdown",
   "metadata": {},
   "source": [
    "## Problem 9.5\n",
    "\n",
    "Spike count of 1 neuron, spike count of N interconnected neurons, spike count of N independent neurons."
   ]
  },
  {
   "cell_type": "markdown",
   "metadata": {},
   "source": [
    "## Problem 9.6"
   ]
  },
  {
   "cell_type": "markdown",
   "metadata": {},
   "source": [
    "Entropy of just $P(X_1)$.\n",
    "\n",
    "$H[X_1] = -\\sum_i P(X_1 = x_1^i) \\ln P(X_1 = x_1^i)$\n",
    "\n",
    "\n",
    "$= -\\left[P(X_1=0)\\ln P(X_1=0) + P(X_1=1)\\ln P(X_1=1)\\right]$"
   ]
  },
  {
   "cell_type": "markdown",
   "metadata": {},
   "source": [
    "Conditional entropies (of $P(X_1|X_2 = 0)$ and $P(X_1|X_2 = 1)$)."
   ]
  },
  {
   "cell_type": "markdown",
   "metadata": {},
   "source": [
    "$H[X_1|X_2 = 0] = -\\sum_i p(X_1 = x_1^i|X_2=0) \\ln p(X_1 = x_1^i|X_2=0)$\n",
    "\n",
    "$= -\\left[p(X_1=0|x_2=0)\\ln p(X_1=0|x_2=0) + p(X_1=1|x_2=0)\\ln p(X_1=1|x_2=0)\\right]$\n",
    "\n",
    "Similar for $H[X_1|X_2 = 1]$."
   ]
  },
  {
   "cell_type": "markdown",
   "metadata": {},
   "source": [
    "Full mutual information: entropy of $P(X_1)$ minus average entropy of $P(X_1|X_2)$ (average conditional entropy)."
   ]
  },
  {
   "cell_type": "markdown",
   "metadata": {},
   "source": [
    "$MI[X_1, X_2] = H[X_1] - \\sum_j H[X_1|X_2 = x_2^j] P(X_2 = x_2^j)$\n",
    "\n",
    "$= H[X_1] - (H[X_1|X_2 = 0] P(X_2 = 0) + H[X_1|X_2 = 1] P(X_2 = 1))$"
   ]
  },
  {
   "cell_type": "markdown",
   "metadata": {},
   "source": [
    "It's probably a bit easier to do it with code:"
   ]
  },
  {
   "cell_type": "markdown",
   "metadata": {},
   "source": [
    "For distribution A:"
   ]
  },
  {
   "cell_type": "code",
   "execution_count": 115,
   "metadata": {},
   "outputs": [
    {
     "name": "stdout",
     "output_type": "stream",
     "text": [
      "p(x_1): [0.55 0.45]\n",
      "p(x_2): [0.55 0.45]\n",
      "p(x_1|x_2=0): [0.27272727 0.72727273]\n",
      "p(x_1|x_2=1): [0.88888889 0.11111111]\n",
      "MI: 0.20889043051727113\n"
     ]
    }
   ],
   "source": [
    "def h(p):\n",
    "    return -(p[0]*np.log(p[0]) + p[1]*np.log(p[1]))\n",
    "\n",
    "p_x_1_x_2 = np.array([\n",
    "    [.15, .4],\n",
    "    [.4, .05],\n",
    "])\n",
    "\n",
    "# calc marginals\n",
    "p_x_1 = p_x_1_x_2.sum(0)\n",
    "p_x_2 = p_x_1_x_2.sum(1)\n",
    "\n",
    "print('p(x_1):', p_x_1)\n",
    "print('p(x_2):', p_x_2)\n",
    "\n",
    "# calc conditional distributions\n",
    "p_x_1_given_x_2_0 = p_x_1_x_2[0, :] / p_x_2[0]\n",
    "p_x_1_given_x_2_1 = p_x_1_x_2[1, :] / p_x_2[1]\n",
    "\n",
    "print('p(x_1|x_2=0):', p_x_1_given_x_2_0)\n",
    "print('p(x_1|x_2=1):', p_x_1_given_x_2_1)\n",
    "\n",
    "mi = h(p_x_1) - p_x_2[0]*h(p_x_1_given_x_2_0) - p_x_2[1]*h(p_x_1_given_x_2_1)\n",
    "print('MI:', mi)"
   ]
  },
  {
   "cell_type": "markdown",
   "metadata": {},
   "source": [
    "For distribution B"
   ]
  },
  {
   "cell_type": "code",
   "execution_count": 114,
   "metadata": {},
   "outputs": [
    {
     "name": "stdout",
     "output_type": "stream",
     "text": [
      "p(x_1): [0.4 0.6]\n",
      "p(x_2): [0.2 0.8]\n",
      "p(x_1|x_2=0): [0.4 0.6]\n",
      "p(x_1|x_2=1): [0.4 0.6]\n",
      "MI: -1.1102230246251565e-16\n"
     ]
    }
   ],
   "source": [
    "def h(p):\n",
    "    return -(p[0]*np.log(p[0]) + p[1]*np.log(p[1]))\n",
    "\n",
    "p_x_1_x_2 = np.array([\n",
    "    [.08, .12],\n",
    "    [.32, .48],\n",
    "])\n",
    "\n",
    "# calc marginals\n",
    "p_x_1 = p_x_1_x_2.sum(0)\n",
    "p_x_2 = p_x_1_x_2.sum(1)\n",
    "\n",
    "print('p(x_1):', p_x_1)\n",
    "print('p(x_2):', p_x_2)\n",
    "\n",
    "# calc conditional distributions\n",
    "p_x_1_given_x_2_0 = p_x_1_x_2[0, :] / p_x_2[0]\n",
    "p_x_1_given_x_2_1 = p_x_1_x_2[1, :] / p_x_2[1]\n",
    "\n",
    "print('p(x_1|x_2=0):', p_x_1_given_x_2_0)\n",
    "print('p(x_1|x_2=1):', p_x_1_given_x_2_1)\n",
    "\n",
    "mi = h(p_x_1) - p_x_2[0]*h(p_x_1_given_x_2_0) - p_x_2[1]*h(p_x_1_given_x_2_1)\n",
    "print('MI:', mi)"
   ]
  },
  {
   "cell_type": "markdown",
   "metadata": {},
   "source": [
    "Note: we could have known that the mutual information between these two variables was 0 by first noting that they were independent."
   ]
  }
 ],
 "metadata": {
  "kernelspec": {
   "display_name": "Python 3",
   "language": "python",
   "name": "python3"
  },
  "language_info": {
   "codemirror_mode": {
    "name": "ipython",
    "version": 3
   },
   "file_extension": ".py",
   "mimetype": "text/x-python",
   "name": "python",
   "nbconvert_exporter": "python",
   "pygments_lexer": "ipython3",
   "version": "3.6.9"
  }
 },
 "nbformat": 4,
 "nbformat_minor": 2
}
